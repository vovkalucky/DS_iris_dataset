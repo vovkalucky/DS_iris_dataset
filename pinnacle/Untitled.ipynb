{
 "cells": [
  {
   "cell_type": "code",
   "execution_count": 58,
   "metadata": {},
   "outputs": [],
   "source": [
    "import pandas as pd"
   ]
  },
  {
   "cell_type": "code",
   "execution_count": 59,
   "metadata": {},
   "outputs": [],
   "source": [
    "df = pd.read_excel('arhiv_kefov_pinnacle_2019.xlsx')"
   ]
  },
  {
   "cell_type": "code",
   "execution_count": 60,
   "metadata": {},
   "outputs": [
    {
     "data": {
      "text/html": [
       "<div>\n",
       "<style scoped>\n",
       "    .dataframe tbody tr th:only-of-type {\n",
       "        vertical-align: middle;\n",
       "    }\n",
       "\n",
       "    .dataframe tbody tr th {\n",
       "        vertical-align: top;\n",
       "    }\n",
       "\n",
       "    .dataframe thead th {\n",
       "        text-align: right;\n",
       "    }\n",
       "</style>\n",
       "<table border=\"1\" class=\"dataframe\">\n",
       "  <thead>\n",
       "    <tr style=\"text-align: right;\">\n",
       "      <th></th>\n",
       "      <th>DATA</th>\n",
       "      <th>Unnamed: 1</th>\n",
       "      <th>TEAMS</th>\n",
       "      <th>Unnamed: 3</th>\n",
       "      <th>Unnamed: 4</th>\n",
       "      <th>OPENING ODDS</th>\n",
       "      <th>Unnamed: 6</th>\n",
       "      <th>Unnamed: 7</th>\n",
       "      <th>CLOSING ODDS</th>\n",
       "      <th>Unnamed: 9</th>\n",
       "      <th>...</th>\n",
       "      <th>SCORE</th>\n",
       "      <th>Unnamed: 12</th>\n",
       "      <th>RESULTS</th>\n",
       "      <th>Unnamed: 14</th>\n",
       "      <th>Unnamed: 15</th>\n",
       "      <th>Unnamed: 16</th>\n",
       "      <th>Unnamed: 17</th>\n",
       "      <th>Unnamed: 18</th>\n",
       "      <th>Unnamed: 19</th>\n",
       "      <th>Unnamed: 20</th>\n",
       "    </tr>\n",
       "  </thead>\n",
       "  <tbody>\n",
       "    <tr>\n",
       "      <th>0</th>\n",
       "      <td>DATE</td>\n",
       "      <td>LEAGUE</td>\n",
       "      <td>HOME</td>\n",
       "      <td>Res</td>\n",
       "      <td>AWAY</td>\n",
       "      <td>1.00</td>\n",
       "      <td>X</td>\n",
       "      <td>2.00</td>\n",
       "      <td>1.00</td>\n",
       "      <td>X</td>\n",
       "      <td>...</td>\n",
       "      <td>H</td>\n",
       "      <td>A</td>\n",
       "      <td>WIN</td>\n",
       "      <td>0,5 Gls</td>\n",
       "      <td>1.5Gls</td>\n",
       "      <td>2.5Gls</td>\n",
       "      <td>3,5 Gls</td>\n",
       "      <td>4,5 Gls</td>\n",
       "      <td>BTTS</td>\n",
       "      <td>TG</td>\n",
       "    </tr>\n",
       "    <tr>\n",
       "      <th>1</th>\n",
       "      <td>2019-01-01 00:00:00</td>\n",
       "      <td>JW Cup</td>\n",
       "      <td>NTV Beleza (w)(N)</td>\n",
       "      <td>2-2</td>\n",
       "      <td>INAC (w)</td>\n",
       "      <td>1.86</td>\n",
       "      <td>3.27</td>\n",
       "      <td>4.21</td>\n",
       "      <td>1.92</td>\n",
       "      <td>3.1</td>\n",
       "      <td>...</td>\n",
       "      <td>2</td>\n",
       "      <td>2</td>\n",
       "      <td>0</td>\n",
       "      <td>OVER</td>\n",
       "      <td>OVER</td>\n",
       "      <td>OVER</td>\n",
       "      <td>OVER</td>\n",
       "      <td>UNDER</td>\n",
       "      <td>YES</td>\n",
       "      <td>4-6</td>\n",
       "    </tr>\n",
       "    <tr>\n",
       "      <th>2</th>\n",
       "      <td>2019-01-01 00:00:00</td>\n",
       "      <td>AUS WAL</td>\n",
       "      <td>WS Wanderers (w)</td>\n",
       "      <td>1-2</td>\n",
       "      <td>Melbourne City (w)</td>\n",
       "      <td>5.97</td>\n",
       "      <td>4.91</td>\n",
       "      <td>1.37</td>\n",
       "      <td>6.02</td>\n",
       "      <td>4.87</td>\n",
       "      <td>...</td>\n",
       "      <td>1</td>\n",
       "      <td>2</td>\n",
       "      <td>2</td>\n",
       "      <td>OVER</td>\n",
       "      <td>OVER</td>\n",
       "      <td>OVER</td>\n",
       "      <td>UNDER</td>\n",
       "      <td>UNDER</td>\n",
       "      <td>YES</td>\n",
       "      <td>2-3</td>\n",
       "    </tr>\n",
       "    <tr>\n",
       "      <th>3</th>\n",
       "      <td>2019-01-01 00:00:00</td>\n",
       "      <td>HKEC</td>\n",
       "      <td>Sun Pegasus</td>\n",
       "      <td>0-2</td>\n",
       "      <td>LeeMan</td>\n",
       "      <td>1.41</td>\n",
       "      <td>4.93</td>\n",
       "      <td>5.86</td>\n",
       "      <td>1.40</td>\n",
       "      <td>5.07</td>\n",
       "      <td>...</td>\n",
       "      <td>0</td>\n",
       "      <td>2</td>\n",
       "      <td>2</td>\n",
       "      <td>OVER</td>\n",
       "      <td>OVER</td>\n",
       "      <td>UNDER</td>\n",
       "      <td>UNDER</td>\n",
       "      <td>UNDER</td>\n",
       "      <td>NO</td>\n",
       "      <td>2-3</td>\n",
       "    </tr>\n",
       "    <tr>\n",
       "      <th>4</th>\n",
       "      <td>2019-01-01 00:00:00</td>\n",
       "      <td>AUS D1</td>\n",
       "      <td>Western Sydney</td>\n",
       "      <td>0-2</td>\n",
       "      <td>Melbourne City</td>\n",
       "      <td>2.91</td>\n",
       "      <td>3.25</td>\n",
       "      <td>2.67</td>\n",
       "      <td>2.66</td>\n",
       "      <td>3.54</td>\n",
       "      <td>...</td>\n",
       "      <td>0</td>\n",
       "      <td>2</td>\n",
       "      <td>2</td>\n",
       "      <td>OVER</td>\n",
       "      <td>OVER</td>\n",
       "      <td>UNDER</td>\n",
       "      <td>UNDER</td>\n",
       "      <td>UNDER</td>\n",
       "      <td>NO</td>\n",
       "      <td>2-3</td>\n",
       "    </tr>\n",
       "  </tbody>\n",
       "</table>\n",
       "<p>5 rows × 21 columns</p>\n",
       "</div>"
      ],
      "text/plain": [
       "                  DATA Unnamed: 1              TEAMS Unnamed: 3  \\\n",
       "0                 DATE     LEAGUE               HOME        Res   \n",
       "1  2019-01-01 00:00:00    JW Cup   NTV Beleza (w)(N)        2-2   \n",
       "2  2019-01-01 00:00:00   AUS WAL    WS Wanderers (w)        1-2   \n",
       "3  2019-01-01 00:00:00      HKEC         Sun Pegasus        0-2   \n",
       "4  2019-01-01 00:00:00    AUS D1      Western Sydney        0-2   \n",
       "\n",
       "           Unnamed: 4  OPENING ODDS Unnamed: 6  Unnamed: 7  CLOSING ODDS  \\\n",
       "0                AWAY          1.00          X        2.00          1.00   \n",
       "1            INAC (w)          1.86       3.27        4.21          1.92   \n",
       "2  Melbourne City (w)          5.97       4.91        1.37          6.02   \n",
       "3              LeeMan          1.41       4.93        5.86          1.40   \n",
       "4      Melbourne City          2.91       3.25        2.67          2.66   \n",
       "\n",
       "  Unnamed: 9  ...  SCORE Unnamed: 12 RESULTS Unnamed: 14 Unnamed: 15  \\\n",
       "0          X  ...      H           A     WIN     0,5 Gls      1.5Gls   \n",
       "1        3.1  ...      2           2       0        OVER        OVER   \n",
       "2       4.87  ...      1           2       2        OVER        OVER   \n",
       "3       5.07  ...      0           2       2        OVER        OVER   \n",
       "4       3.54  ...      0           2       2        OVER        OVER   \n",
       "\n",
       "  Unnamed: 16 Unnamed: 17 Unnamed: 18 Unnamed: 19 Unnamed: 20  \n",
       "0      2.5Gls     3,5 Gls     4,5 Gls        BTTS          TG  \n",
       "1        OVER        OVER       UNDER         YES         4-6  \n",
       "2        OVER       UNDER       UNDER         YES         2-3  \n",
       "3       UNDER       UNDER       UNDER          NO         2-3  \n",
       "4       UNDER       UNDER       UNDER          NO         2-3  \n",
       "\n",
       "[5 rows x 21 columns]"
      ]
     },
     "execution_count": 60,
     "metadata": {},
     "output_type": "execute_result"
    }
   ],
   "source": [
    "df.head()"
   ]
  },
  {
   "cell_type": "code",
   "execution_count": 61,
   "metadata": {},
   "outputs": [],
   "source": [
    "#df.rename(columns={'Unnamed: 1': 'League'}) "
   ]
  },
  {
   "cell_type": "code",
   "execution_count": 62,
   "metadata": {},
   "outputs": [
    {
     "data": {
      "text/plain": [
       "Index(['DATA', 'Unnamed: 1', 'TEAMS', 'Unnamed: 3', 'Unnamed: 4',\n",
       "       'OPENING ODDS', 'Unnamed: 6', 'Unnamed: 7', 'CLOSING ODDS',\n",
       "       'Unnamed: 9', 'Unnamed: 10', 'SCORE', 'Unnamed: 12', 'RESULTS',\n",
       "       'Unnamed: 14', 'Unnamed: 15', 'Unnamed: 16', 'Unnamed: 17',\n",
       "       'Unnamed: 18', 'Unnamed: 19', 'Unnamed: 20'],\n",
       "      dtype='object')"
      ]
     },
     "execution_count": 62,
     "metadata": {},
     "output_type": "execute_result"
    }
   ],
   "source": [
    "df.columns"
   ]
  },
  {
   "cell_type": "code",
   "execution_count": 63,
   "metadata": {},
   "outputs": [],
   "source": [
    "df = df.rename(columns={'Unnamed: 1': 'LEAGUE', 'Unnamed: 3':'SCORE', 'TEAMS':'HOME','Unnamed: 4':'AWAY', 'OPENING ODDS':'1', 'Unnamed: 6':'X', 'Unnamed: 7':'2', 'Unnamed: 9':'CLOSING_DRAW','SCORE':'SCORE_HOME', 'Unnamed: 12':'SCORE_AWAY', 'Unnamed: 14':'0,5gls', 'Unnamed: 15':'1,5gls', 'Unnamed: 16':'2,5gls', 'Unnamed: 17':'3,5gls', 'Unnamed: 18':'4,5gls', 'Unnamed: 19':'BTTS'}) "
   ]
  },
  {
   "cell_type": "code",
   "execution_count": 64,
   "metadata": {},
   "outputs": [
    {
     "data": {
      "text/plain": [
       "Index(['DATA', 'LEAGUE', 'HOME', 'SCORE', 'AWAY', '1', 'X', '2',\n",
       "       'CLOSING ODDS', 'CLOSING_DRAW', 'Unnamed: 10', 'SCORE_HOME',\n",
       "       'SCORE_AWAY', 'RESULTS', '0,5gls', '1,5gls', '2,5gls', '3,5gls',\n",
       "       '4,5gls', 'BTTS', 'Unnamed: 20'],\n",
       "      dtype='object')"
      ]
     },
     "execution_count": 64,
     "metadata": {},
     "output_type": "execute_result"
    }
   ],
   "source": [
    "df.columns"
   ]
  },
  {
   "cell_type": "code",
   "execution_count": 65,
   "metadata": {},
   "outputs": [
    {
     "data": {
      "text/plain": [
       "OVER       78332\n",
       "UNDER       6005\n",
       "0,5 Gls        1\n",
       "Name: 0,5gls, dtype: int64"
      ]
     },
     "execution_count": 65,
     "metadata": {},
     "output_type": "execute_result"
    }
   ],
   "source": [
    "df['0,5gls'].value_counts()"
   ]
  },
  {
   "cell_type": "code",
   "execution_count": 66,
   "metadata": {},
   "outputs": [],
   "source": [
    "#filter = if (df['0,5gls'] == 'OVER') df['0,5gls'] == '1'"
   ]
  },
  {
   "cell_type": "code",
   "execution_count": 67,
   "metadata": {},
   "outputs": [
    {
     "name": "stdout",
     "output_type": "stream",
     "text": [
      "<class 'pandas.core.frame.DataFrame'>\n",
      "RangeIndex: 84338 entries, 0 to 84337\n",
      "Data columns (total 21 columns):\n",
      " #   Column        Non-Null Count  Dtype  \n",
      "---  ------        --------------  -----  \n",
      " 0   DATA          84338 non-null  object \n",
      " 1   LEAGUE        84338 non-null  object \n",
      " 2   HOME          84338 non-null  object \n",
      " 3   SCORE         84338 non-null  object \n",
      " 4   AWAY          84338 non-null  object \n",
      " 5   1             84338 non-null  float64\n",
      " 6   X             84338 non-null  object \n",
      " 7   2             84338 non-null  float64\n",
      " 8   CLOSING ODDS  84338 non-null  float64\n",
      " 9   CLOSING_DRAW  84338 non-null  object \n",
      " 10  Unnamed: 10   84338 non-null  float64\n",
      " 11  SCORE_HOME    84338 non-null  object \n",
      " 12  SCORE_AWAY    84338 non-null  object \n",
      " 13  RESULTS       84338 non-null  object \n",
      " 14  0,5gls        84338 non-null  object \n",
      " 15  1,5gls        84338 non-null  object \n",
      " 16  2,5gls        84338 non-null  object \n",
      " 17  3,5gls        84338 non-null  object \n",
      " 18  4,5gls        84338 non-null  object \n",
      " 19  BTTS          84338 non-null  object \n",
      " 20  Unnamed: 20   84338 non-null  object \n",
      "dtypes: float64(4), object(17)\n",
      "memory usage: 13.5+ MB\n"
     ]
    }
   ],
   "source": [
    "df.info()"
   ]
  },
  {
   "cell_type": "code",
   "execution_count": 68,
   "metadata": {},
   "outputs": [
    {
     "name": "stderr",
     "output_type": "stream",
     "text": [
      "C:\\Anaconda\\lib\\site-packages\\pandas\\core\\indexing.py:670: SettingWithCopyWarning: \n",
      "A value is trying to be set on a copy of a slice from a DataFrame\n",
      "\n",
      "See the caveats in the documentation: https://pandas.pydata.org/pandas-docs/stable/user_guide/indexing.html#returning-a-view-versus-a-copy\n",
      "  self._setitem_with_indexer(indexer, value)\n"
     ]
    }
   ],
   "source": [
    "df['0,5gls'].loc[df['0,5gls'] =='OVER'] = 1\n",
    "df['0,5gls'].loc[df['0,5gls'] =='UNDER'] = 0\n",
    "df['1,5gls'].loc[df['1,5gls'] =='OVER'] = 1\n",
    "df['1,5gls'].loc[df['1,5gls'] =='UNDER'] = 0\n",
    "df['2,5gls'].loc[df['2,5gls'] =='OVER'] = 1\n",
    "df['2,5gls'].loc[df['2,5gls'] =='UNDER'] = 0\n",
    "df['3,5gls'].loc[df['3,5gls'] =='OVER'] = 1\n",
    "df['3,5gls'].loc[df['3,5gls'] =='UNDER'] = 0\n",
    "df['4,5gls'].loc[df['4,5gls'] =='OVER'] = 1\n",
    "df['4,5gls'].loc[df['4,5gls'] =='UNDER'] = 0"
   ]
  },
  {
   "cell_type": "code",
   "execution_count": 69,
   "metadata": {},
   "outputs": [
    {
     "data": {
      "text/plain": [
       "1          78332\n",
       "0           6005\n",
       "0,5 Gls        1\n",
       "Name: 0,5gls, dtype: int64"
      ]
     },
     "execution_count": 69,
     "metadata": {},
     "output_type": "execute_result"
    }
   ],
   "source": [
    "df['0,5gls'].value_counts()"
   ]
  },
  {
   "cell_type": "code",
   "execution_count": 70,
   "metadata": {
    "scrolled": true
   },
   "outputs": [],
   "source": [
    "df = df.drop(0)"
   ]
  },
  {
   "cell_type": "code",
   "execution_count": 71,
   "metadata": {},
   "outputs": [],
   "source": [
    "df = df.drop(['Unnamed: 20'], axis = 'columns')"
   ]
  },
  {
   "cell_type": "code",
   "execution_count": 72,
   "metadata": {},
   "outputs": [],
   "source": [
    "df['TOTAL_GOALS'] = df['SCORE_HOME'] + df['SCORE_AWAY']"
   ]
  },
  {
   "cell_type": "code",
   "execution_count": 78,
   "metadata": {},
   "outputs": [],
   "source": [
    "df = df.loc[df.LEAGUE.isin(['EURO Cup '])]"
   ]
  },
  {
   "cell_type": "code",
   "execution_count": 80,
   "metadata": {},
   "outputs": [],
   "source": [
    "df.to_csv('EURO_CUP_matches.csv', index=False)"
   ]
  },
  {
   "cell_type": "code",
   "execution_count": 98,
   "metadata": {},
   "outputs": [],
   "source": [
    "nums=[1,4,8,9,13]\n",
    "def has_lucky_number(nums):\n",
    "    \"\"\"Return whether the given list of numbers is lucky. A lucky list contains\n",
    "    at least one number divisible by 7.\n",
    "    \"\"\"\n",
    "    for num in nums:\n",
    "        if num % 7 == 0:\n",
    "            return True\n",
    "    return False"
   ]
  },
  {
   "cell_type": "code",
   "execution_count": 99,
   "metadata": {},
   "outputs": [
    {
     "data": {
      "text/plain": [
       "False"
      ]
     },
     "execution_count": 99,
     "metadata": {},
     "output_type": "execute_result"
    }
   ],
   "source": [
    "has_lucky_number(nums)"
   ]
  },
  {
   "cell_type": "code",
   "execution_count": null,
   "metadata": {},
   "outputs": [],
   "source": []
  },
  {
   "cell_type": "code",
   "execution_count": null,
   "metadata": {},
   "outputs": [],
   "source": []
  }
 ],
 "metadata": {
  "kernelspec": {
   "display_name": "Python 3",
   "language": "python",
   "name": "python3"
  },
  "language_info": {
   "codemirror_mode": {
    "name": "ipython",
    "version": 3
   },
   "file_extension": ".py",
   "mimetype": "text/x-python",
   "name": "python",
   "nbconvert_exporter": "python",
   "pygments_lexer": "ipython3",
   "version": "3.7.6"
  }
 },
 "nbformat": 4,
 "nbformat_minor": 4
}
