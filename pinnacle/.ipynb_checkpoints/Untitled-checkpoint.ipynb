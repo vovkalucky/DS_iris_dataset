{
 "cells": [
  {
   "cell_type": "code",
   "execution_count": 1,
   "metadata": {},
   "outputs": [],
   "source": [
    "import pandas as pd"
   ]
  },
  {
   "cell_type": "code",
   "execution_count": 2,
   "metadata": {},
   "outputs": [],
   "source": [
    "df = pd.read_excel('arhiv_kefov_pinnacle_2019.xlsx')"
   ]
  },
  {
   "cell_type": "code",
   "execution_count": 3,
   "metadata": {},
   "outputs": [
    {
     "data": {
      "text/html": [
       "<div>\n",
       "<style scoped>\n",
       "    .dataframe tbody tr th:only-of-type {\n",
       "        vertical-align: middle;\n",
       "    }\n",
       "\n",
       "    .dataframe tbody tr th {\n",
       "        vertical-align: top;\n",
       "    }\n",
       "\n",
       "    .dataframe thead th {\n",
       "        text-align: right;\n",
       "    }\n",
       "</style>\n",
       "<table border=\"1\" class=\"dataframe\">\n",
       "  <thead>\n",
       "    <tr style=\"text-align: right;\">\n",
       "      <th></th>\n",
       "      <th>DATA</th>\n",
       "      <th>Unnamed: 1</th>\n",
       "      <th>TEAMS</th>\n",
       "      <th>Unnamed: 3</th>\n",
       "      <th>Unnamed: 4</th>\n",
       "      <th>OPENING ODDS</th>\n",
       "      <th>Unnamed: 6</th>\n",
       "      <th>Unnamed: 7</th>\n",
       "      <th>CLOSING ODDS</th>\n",
       "      <th>Unnamed: 9</th>\n",
       "      <th>...</th>\n",
       "      <th>SCORE</th>\n",
       "      <th>Unnamed: 12</th>\n",
       "      <th>RESULTS</th>\n",
       "      <th>Unnamed: 14</th>\n",
       "      <th>Unnamed: 15</th>\n",
       "      <th>Unnamed: 16</th>\n",
       "      <th>Unnamed: 17</th>\n",
       "      <th>Unnamed: 18</th>\n",
       "      <th>Unnamed: 19</th>\n",
       "      <th>Unnamed: 20</th>\n",
       "    </tr>\n",
       "  </thead>\n",
       "  <tbody>\n",
       "    <tr>\n",
       "      <th>0</th>\n",
       "      <td>DATE</td>\n",
       "      <td>LEAGUE</td>\n",
       "      <td>HOME</td>\n",
       "      <td>Res</td>\n",
       "      <td>AWAY</td>\n",
       "      <td>1.00</td>\n",
       "      <td>X</td>\n",
       "      <td>2.00</td>\n",
       "      <td>1.00</td>\n",
       "      <td>X</td>\n",
       "      <td>...</td>\n",
       "      <td>H</td>\n",
       "      <td>A</td>\n",
       "      <td>WIN</td>\n",
       "      <td>0,5 Gls</td>\n",
       "      <td>1.5Gls</td>\n",
       "      <td>2.5Gls</td>\n",
       "      <td>3,5 Gls</td>\n",
       "      <td>4,5 Gls</td>\n",
       "      <td>BTTS</td>\n",
       "      <td>TG</td>\n",
       "    </tr>\n",
       "    <tr>\n",
       "      <th>1</th>\n",
       "      <td>2019-01-01 00:00:00</td>\n",
       "      <td>JW Cup</td>\n",
       "      <td>NTV Beleza (w)(N)</td>\n",
       "      <td>2-2</td>\n",
       "      <td>INAC (w)</td>\n",
       "      <td>1.86</td>\n",
       "      <td>3.27</td>\n",
       "      <td>4.21</td>\n",
       "      <td>1.92</td>\n",
       "      <td>3.1</td>\n",
       "      <td>...</td>\n",
       "      <td>2</td>\n",
       "      <td>2</td>\n",
       "      <td>0</td>\n",
       "      <td>OVER</td>\n",
       "      <td>OVER</td>\n",
       "      <td>OVER</td>\n",
       "      <td>OVER</td>\n",
       "      <td>UNDER</td>\n",
       "      <td>YES</td>\n",
       "      <td>4-6</td>\n",
       "    </tr>\n",
       "    <tr>\n",
       "      <th>2</th>\n",
       "      <td>2019-01-01 00:00:00</td>\n",
       "      <td>AUS WAL</td>\n",
       "      <td>WS Wanderers (w)</td>\n",
       "      <td>1-2</td>\n",
       "      <td>Melbourne City (w)</td>\n",
       "      <td>5.97</td>\n",
       "      <td>4.91</td>\n",
       "      <td>1.37</td>\n",
       "      <td>6.02</td>\n",
       "      <td>4.87</td>\n",
       "      <td>...</td>\n",
       "      <td>1</td>\n",
       "      <td>2</td>\n",
       "      <td>2</td>\n",
       "      <td>OVER</td>\n",
       "      <td>OVER</td>\n",
       "      <td>OVER</td>\n",
       "      <td>UNDER</td>\n",
       "      <td>UNDER</td>\n",
       "      <td>YES</td>\n",
       "      <td>2-3</td>\n",
       "    </tr>\n",
       "    <tr>\n",
       "      <th>3</th>\n",
       "      <td>2019-01-01 00:00:00</td>\n",
       "      <td>HKEC</td>\n",
       "      <td>Sun Pegasus</td>\n",
       "      <td>0-2</td>\n",
       "      <td>LeeMan</td>\n",
       "      <td>1.41</td>\n",
       "      <td>4.93</td>\n",
       "      <td>5.86</td>\n",
       "      <td>1.40</td>\n",
       "      <td>5.07</td>\n",
       "      <td>...</td>\n",
       "      <td>0</td>\n",
       "      <td>2</td>\n",
       "      <td>2</td>\n",
       "      <td>OVER</td>\n",
       "      <td>OVER</td>\n",
       "      <td>UNDER</td>\n",
       "      <td>UNDER</td>\n",
       "      <td>UNDER</td>\n",
       "      <td>NO</td>\n",
       "      <td>2-3</td>\n",
       "    </tr>\n",
       "    <tr>\n",
       "      <th>4</th>\n",
       "      <td>2019-01-01 00:00:00</td>\n",
       "      <td>AUS D1</td>\n",
       "      <td>Western Sydney</td>\n",
       "      <td>0-2</td>\n",
       "      <td>Melbourne City</td>\n",
       "      <td>2.91</td>\n",
       "      <td>3.25</td>\n",
       "      <td>2.67</td>\n",
       "      <td>2.66</td>\n",
       "      <td>3.54</td>\n",
       "      <td>...</td>\n",
       "      <td>0</td>\n",
       "      <td>2</td>\n",
       "      <td>2</td>\n",
       "      <td>OVER</td>\n",
       "      <td>OVER</td>\n",
       "      <td>UNDER</td>\n",
       "      <td>UNDER</td>\n",
       "      <td>UNDER</td>\n",
       "      <td>NO</td>\n",
       "      <td>2-3</td>\n",
       "    </tr>\n",
       "  </tbody>\n",
       "</table>\n",
       "<p>5 rows × 21 columns</p>\n",
       "</div>"
      ],
      "text/plain": [
       "                  DATA Unnamed: 1              TEAMS Unnamed: 3  \\\n",
       "0                 DATE     LEAGUE               HOME        Res   \n",
       "1  2019-01-01 00:00:00    JW Cup   NTV Beleza (w)(N)        2-2   \n",
       "2  2019-01-01 00:00:00   AUS WAL    WS Wanderers (w)        1-2   \n",
       "3  2019-01-01 00:00:00      HKEC         Sun Pegasus        0-2   \n",
       "4  2019-01-01 00:00:00    AUS D1      Western Sydney        0-2   \n",
       "\n",
       "           Unnamed: 4  OPENING ODDS Unnamed: 6  Unnamed: 7  CLOSING ODDS  \\\n",
       "0                AWAY          1.00          X        2.00          1.00   \n",
       "1            INAC (w)          1.86       3.27        4.21          1.92   \n",
       "2  Melbourne City (w)          5.97       4.91        1.37          6.02   \n",
       "3              LeeMan          1.41       4.93        5.86          1.40   \n",
       "4      Melbourne City          2.91       3.25        2.67          2.66   \n",
       "\n",
       "  Unnamed: 9  ...  SCORE Unnamed: 12 RESULTS Unnamed: 14 Unnamed: 15  \\\n",
       "0          X  ...      H           A     WIN     0,5 Gls      1.5Gls   \n",
       "1        3.1  ...      2           2       0        OVER        OVER   \n",
       "2       4.87  ...      1           2       2        OVER        OVER   \n",
       "3       5.07  ...      0           2       2        OVER        OVER   \n",
       "4       3.54  ...      0           2       2        OVER        OVER   \n",
       "\n",
       "  Unnamed: 16 Unnamed: 17 Unnamed: 18 Unnamed: 19 Unnamed: 20  \n",
       "0      2.5Gls     3,5 Gls     4,5 Gls        BTTS          TG  \n",
       "1        OVER        OVER       UNDER         YES         4-6  \n",
       "2        OVER       UNDER       UNDER         YES         2-3  \n",
       "3       UNDER       UNDER       UNDER          NO         2-3  \n",
       "4       UNDER       UNDER       UNDER          NO         2-3  \n",
       "\n",
       "[5 rows x 21 columns]"
      ]
     },
     "execution_count": 3,
     "metadata": {},
     "output_type": "execute_result"
    }
   ],
   "source": [
    "df.head()"
   ]
  },
  {
   "cell_type": "code",
   "execution_count": 14,
   "metadata": {},
   "outputs": [],
   "source": [
    "#df.rename(columns={'Unnamed: 1': 'League'}) "
   ]
  },
  {
   "cell_type": "code",
   "execution_count": 5,
   "metadata": {},
   "outputs": [
    {
     "data": {
      "text/plain": [
       "Index(['DATA', 'Unnamed: 1', 'TEAMS', 'Unnamed: 3', 'Unnamed: 4',\n",
       "       'OPENING ODDS', 'Unnamed: 6', 'Unnamed: 7', 'CLOSING ODDS',\n",
       "       'Unnamed: 9', 'Unnamed: 10', 'SCORE', 'Unnamed: 12', 'RESULTS',\n",
       "       'Unnamed: 14', 'Unnamed: 15', 'Unnamed: 16', 'Unnamed: 17',\n",
       "       'Unnamed: 18', 'Unnamed: 19', 'Unnamed: 20'],\n",
       "      dtype='object')"
      ]
     },
     "execution_count": 5,
     "metadata": {},
     "output_type": "execute_result"
    }
   ],
   "source": [
    "df.columns"
   ]
  },
  {
   "cell_type": "code",
   "execution_count": 17,
   "metadata": {},
   "outputs": [],
   "source": [
    "df = df.rename(columns={'Unnamed: 1': 'LEAGUE', 'Unnamed: 3':'SCORE', 'TEAMS':'HOME','Unnamed: 4':'AWAY', 'OPENING ODDS':'1', 'Unnamed: 6':'X', 'Unnamed: 7':'2', 'Unnamed: 9':'CLOSING_DRAW','SCORE':'SCORE_HOME', 'Unnamed: 12':'SCORE_AWAY', 'Unnamed: 14':'0,5gls', 'Unnamed: 15':'1,5gls', 'Unnamed: 16':'2,5gls', 'Unnamed: 17':'3,5gls', 'Unnamed: 18':'4,5gls', 'Unnamed: 19':'BTTS'}) "
   ]
  },
  {
   "cell_type": "code",
   "execution_count": 18,
   "metadata": {},
   "outputs": [
    {
     "data": {
      "text/plain": [
       "Index(['DATA', 'LEAGUE', 'HOME', 'SCORE', 'AWAY', '1', 'X', '2',\n",
       "       'CLOSING ODDS', 'CLOSING_DRAW', 'Unnamed: 10', 'SCORE_HOME',\n",
       "       'SCORE_AWAY', 'RESULTS', '0,5gls', '1,5gls', '2,5gls', '3,5gls',\n",
       "       '4,5gls', 'BTTS', 'Unnamed: 20'],\n",
       "      dtype='object')"
      ]
     },
     "execution_count": 18,
     "metadata": {},
     "output_type": "execute_result"
    }
   ],
   "source": [
    "df.columns"
   ]
  },
  {
   "cell_type": "code",
   "execution_count": 22,
   "metadata": {},
   "outputs": [
    {
     "data": {
      "text/plain": [
       "OVER       78332\n",
       "UNDER       6005\n",
       "0,5 Gls        1\n",
       "Name: 0,5gls, dtype: int64"
      ]
     },
     "execution_count": 22,
     "metadata": {},
     "output_type": "execute_result"
    }
   ],
   "source": [
    "df['0,5gls'].value_counts()"
   ]
  },
  {
   "cell_type": "code",
   "execution_count": 23,
   "metadata": {},
   "outputs": [
    {
     "ename": "SyntaxError",
     "evalue": "invalid syntax (<ipython-input-23-452e195c1464>, line 1)",
     "output_type": "error",
     "traceback": [
      "\u001b[1;36m  File \u001b[1;32m\"<ipython-input-23-452e195c1464>\"\u001b[1;36m, line \u001b[1;32m1\u001b[0m\n\u001b[1;33m    filter = if (df['0,5gls'] == 'OVER') df['0,5gls'] == '1'\u001b[0m\n\u001b[1;37m              ^\u001b[0m\n\u001b[1;31mSyntaxError\u001b[0m\u001b[1;31m:\u001b[0m invalid syntax\n"
     ]
    }
   ],
   "source": [
    "#filter = if (df['0,5gls'] == 'OVER') df['0,5gls'] == '1'"
   ]
  },
  {
   "cell_type": "code",
   "execution_count": null,
   "metadata": {},
   "outputs": [],
   "source": []
  }
 ],
 "metadata": {
  "kernelspec": {
   "display_name": "Python 3",
   "language": "python",
   "name": "python3"
  },
  "language_info": {
   "codemirror_mode": {
    "name": "ipython",
    "version": 3
   },
   "file_extension": ".py",
   "mimetype": "text/x-python",
   "name": "python",
   "nbconvert_exporter": "python",
   "pygments_lexer": "ipython3",
   "version": "3.7.6"
  }
 },
 "nbformat": 4,
 "nbformat_minor": 4
}
