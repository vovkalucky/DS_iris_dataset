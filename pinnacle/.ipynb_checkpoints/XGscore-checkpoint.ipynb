{
 "cells": [
  {
   "cell_type": "code",
   "execution_count": 1,
   "metadata": {},
   "outputs": [],
   "source": [
    "import pandas as pd\n",
    "import numpy as np\n",
    "import seaborn as sns\n",
    "import matplotlib.pyplot as plt\n",
    "from sklearn.model_selection import train_test_split\n",
    "from sklearn.ensemble import RandomForestClassifier\n",
    "from sklearn.model_selection import GridSearchCV\n",
    "from sklearn.linear_model import SGDClassifier\n",
    "from sklearn.model_selection import KFold\n",
    "from sklearn.model_selection import cross_val_score\n",
    "from sklearn.neighbors import KNeighborsClassifier\n",
    "from sklearn.metrics import accuracy_score, precision_score, recall_score, f1_score, classification_report\n",
    "from sklearn.metrics import confusion_matrix\n",
    "from sklearn.metrics import roc_auc_score, roc_curve\n",
    "import xgboost as xgb\n",
    "from sklearn.naive_bayes import GaussianNB"
   ]
  },
  {
   "cell_type": "code",
   "execution_count": 2,
   "metadata": {},
   "outputs": [],
   "source": [
    "df1 = pd.read_excel('dec.xlsx')\n",
    "df2 = pd.read_excel('jan.xlsx')\n",
    "df = pd.concat([df1,df2])"
   ]
  },
  {
   "cell_type": "code",
   "execution_count": 3,
   "metadata": {},
   "outputs": [
    {
     "data": {
      "text/html": [
       "<div>\n",
       "<style scoped>\n",
       "    .dataframe tbody tr th:only-of-type {\n",
       "        vertical-align: middle;\n",
       "    }\n",
       "\n",
       "    .dataframe tbody tr th {\n",
       "        vertical-align: top;\n",
       "    }\n",
       "\n",
       "    .dataframe thead th {\n",
       "        text-align: right;\n",
       "    }\n",
       "</style>\n",
       "<table border=\"1\" class=\"dataframe\">\n",
       "  <thead>\n",
       "    <tr style=\"text-align: right;\">\n",
       "      <th></th>\n",
       "      <th>Сезон</th>\n",
       "      <th>Дата</th>\n",
       "      <th>Турнир</th>\n",
       "      <th>Игра</th>\n",
       "      <th>Ставка</th>\n",
       "      <th>Коэффициент</th>\n",
       "      <th>Сумма ставки</th>\n",
       "      <th>Доход</th>\n",
       "      <th>Банк</th>\n",
       "    </tr>\n",
       "  </thead>\n",
       "  <tbody>\n",
       "    <tr>\n",
       "      <th>0</th>\n",
       "      <td>2020/2021</td>\n",
       "      <td>2021-12-04</td>\n",
       "      <td>Ла Лига</td>\n",
       "      <td>Атлетик 0- 2 Сельта</td>\n",
       "      <td>Тотал больше 1.5</td>\n",
       "      <td>1.47</td>\n",
       "      <td>50</td>\n",
       "      <td>24</td>\n",
       "      <td>1024</td>\n",
       "    </tr>\n",
       "    <tr>\n",
       "      <th>1</th>\n",
       "      <td>2020/2021</td>\n",
       "      <td>2021-12-04</td>\n",
       "      <td>Бундеслига</td>\n",
       "      <td>Герта 3- 1 Унион</td>\n",
       "      <td>Фора гостей (0)</td>\n",
       "      <td>2.16</td>\n",
       "      <td>52</td>\n",
       "      <td>-52</td>\n",
       "      <td>972</td>\n",
       "    </tr>\n",
       "    <tr>\n",
       "      <th>2</th>\n",
       "      <td>2020/2021</td>\n",
       "      <td>2021-12-04</td>\n",
       "      <td>Лига 1</td>\n",
       "      <td>Ним 0- 2 Марсель</td>\n",
       "      <td>Победа гостей</td>\n",
       "      <td>2.01</td>\n",
       "      <td>49</td>\n",
       "      <td>49</td>\n",
       "      <td>1021</td>\n",
       "    </tr>\n",
       "    <tr>\n",
       "      <th>3</th>\n",
       "      <td>2020/2021</td>\n",
       "      <td>2021-12-05</td>\n",
       "      <td>РПЛ</td>\n",
       "      <td>Локомотив 3- 1 Рубин</td>\n",
       "      <td>Победа хозяев</td>\n",
       "      <td>2.54</td>\n",
       "      <td>52</td>\n",
       "      <td>80</td>\n",
       "      <td>1101</td>\n",
       "    </tr>\n",
       "    <tr>\n",
       "      <th>4</th>\n",
       "      <td>2020/2021</td>\n",
       "      <td>2021-12-05</td>\n",
       "      <td>АПЛ</td>\n",
       "      <td>Бернли 1- 1 Эвертон</td>\n",
       "      <td>Хозяева не проиграют</td>\n",
       "      <td>1.91</td>\n",
       "      <td>56</td>\n",
       "      <td>51</td>\n",
       "      <td>1152</td>\n",
       "    </tr>\n",
       "  </tbody>\n",
       "</table>\n",
       "</div>"
      ],
      "text/plain": [
       "       Сезон       Дата      Турнир                  Игра  \\\n",
       "0  2020/2021 2021-12-04     Ла Лига   Атлетик 0- 2 Сельта   \n",
       "1  2020/2021 2021-12-04  Бундеслига      Герта 3- 1 Унион   \n",
       "2  2020/2021 2021-12-04      Лига 1      Ним 0- 2 Марсель   \n",
       "3  2020/2021 2021-12-05         РПЛ  Локомотив 3- 1 Рубин   \n",
       "4  2020/2021 2021-12-05         АПЛ   Бернли 1- 1 Эвертон   \n",
       "\n",
       "                 Ставка  Коэффициент  Сумма ставки  Доход  Банк  \n",
       "0      Тотал больше 1.5         1.47            50     24  1024  \n",
       "1       Фора гостей (0)         2.16            52    -52   972  \n",
       "2         Победа гостей         2.01            49     49  1021  \n",
       "3         Победа хозяев         2.54            52     80  1101  \n",
       "4  Хозяева не проиграют         1.91            56     51  1152  "
      ]
     },
     "execution_count": 3,
     "metadata": {},
     "output_type": "execute_result"
    }
   ],
   "source": [
    "df.head()"
   ]
  },
  {
   "cell_type": "code",
   "execution_count": 4,
   "metadata": {
    "scrolled": true
   },
   "outputs": [
    {
     "data": {
      "text/plain": [
       "Index(['Сезон', 'Дата', 'Турнир', 'Игра', 'Ставка', 'Коэффициент',\n",
       "       'Сумма ставки', 'Доход', 'Банк'],\n",
       "      dtype='object')"
      ]
     },
     "execution_count": 4,
     "metadata": {},
     "output_type": "execute_result"
    }
   ],
   "source": [
    "df.columns"
   ]
  },
  {
   "cell_type": "code",
   "execution_count": 10,
   "metadata": {
    "scrolled": true
   },
   "outputs": [
    {
     "data": {
      "text/plain": [
       "Index(['Сезон', 'Дата', 'Турнир', 'Игра', 'Ставка', 'Коэффициент',\n",
       "       'Сумма ставки', 'Доход', 'Банк'],\n",
       "      dtype='object')"
      ]
     },
     "execution_count": 10,
     "metadata": {},
     "output_type": "execute_result"
    }
   ],
   "source": [
    "df.columns"
   ]
  },
  {
   "cell_type": "code",
   "execution_count": null,
   "metadata": {},
   "outputs": [],
   "source": []
  }
 ],
 "metadata": {
  "kernelspec": {
   "display_name": "Python 3",
   "language": "python",
   "name": "python3"
  },
  "language_info": {
   "codemirror_mode": {
    "name": "ipython",
    "version": 3
   },
   "file_extension": ".py",
   "mimetype": "text/x-python",
   "name": "python",
   "nbconvert_exporter": "python",
   "pygments_lexer": "ipython3",
   "version": "3.7.6"
  }
 },
 "nbformat": 4,
 "nbformat_minor": 4
}
